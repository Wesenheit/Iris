{
 "cells": [
  {
   "cell_type": "markdown",
   "metadata": {},
   "source": [
    "# How to use?\n",
    "This notebook is quick example how to use Iris to perform SED distribution analysis. Here I'll try to reproduce SED fit from [this work](https://arxiv.org/pdf/2201.11131.pdf). Astropy library will be used together with mwdust to estimate extinction to the source based on Gaia parallax."
   ]
  },
  {
   "cell_type": "code",
<<<<<<< HEAD
   "execution_count": 24,
   "metadata": {},
   "outputs": [],
=======
   "execution_count": 1,
   "metadata": {},
   "outputs": [
    {
     "name": "stdout",
     "output_type": "stream",
     "text": [
      "\u001b[91mA new version of galpy (1.8.3) is available, please upgrade using pip/conda/... to get the latest features and bug fixes!\u001b[0m\n",
      "/home/wesenheit/.local/lib/python3.10/site-packages/galpy/util/bovy_plot.py:7: FutureWarning: galpy.util.bovy_plot is being deprecated in favor of galpy.util.plot; functions inside of this module have also changed name, but all functions still exist; please switch to the new import and new function names, because the old import and function names will be removed in v1.9\n",
      "  warnings.warn('galpy.util.bovy_plot is being deprecated in favor of galpy.util.plot; functions inside of this module have also changed name, but all functions still exist; please switch to the new import and new function names, because the old import and function names will be removed in v1.9',FutureWarning)\n",
      "\n"
     ]
    }
   ],
>>>>>>> 68076f2f1fdfb808520889cfe595f8f988484d64
   "source": [
    "from mwdust import Combined19\n",
    "from astropy import units as u\n",
    "import IPython\n",
    "from astropy.coordinates import SkyCoord\n",
    "import numpy as np\n",
    "np.random.seed(42)"
   ]
  },
  {
   "cell_type": "markdown",
   "metadata": {},
   "source": [
    "First two basic entities from the library will be imported, Star class together with catalog dictionary. Catalog dictionary contains information \n",
    "about data from vizier that can be used to get data. It can be manually specified but need to follow strict rule. Key needs to be catalog id in Vizier while value\n",
    "is list of following format:\n",
    "\n",
    "* List of names to download in format [band 1,error in band 1,band 2, error in band 2,...]\n",
    "* List of names for filters in PYPHOT library or own name that can be mapped to specific pyphot name if there is mapping provided in global con dictionary. \n",
    "* radius in arcsec to search for in Vizier\n",
    "\n",
    "There are few existing catalogs that can be used, one for Magellanic Clouds and one for Galactic objects.\n",
    "\n",
    "Star class is used to perform fitting, it takes many arguments but most importantly one need to specify RA and DEC together with metalicity and catalog that \n",
    "will be used to search for objects. One can also specify distance in kpc and it's error if one would like to sample using distance to sample. Alternatively \n",
    "one can use parallax and its error to sample or just use ready function that will download parallax from Gaia DR3."
   ]
  },
  {
   "cell_type": "code",
<<<<<<< HEAD
   "execution_count": 25,
=======
   "execution_count": 2,
>>>>>>> 68076f2f1fdfb808520889cfe595f8f988484d64
   "metadata": {},
   "outputs": [],
   "source": [
    "from Iris import Star,Galactic\n",
    "name=\"Unicorn\"\n",
    "ra=97.269410\n",
    "dec=-5.572286\n",
    "t=Star(name,ra,dec,catalog=Galactic,Z=0.006)"
   ]
  },
  {
   "cell_type": "markdown",
   "metadata": {},
   "source": [
    "As we can suspect that object is giant we set logg of all models to 2.0 (respectivly one star model, double star model primary and secondary)."
   ]
  },
  {
   "cell_type": "code",
<<<<<<< HEAD
   "execution_count": 26,
=======
   "execution_count": 3,
>>>>>>> 68076f2f1fdfb808520889cfe595f8f988484d64
   "metadata": {},
   "outputs": [],
   "source": [
    "t.gp=2.\n",
<<<<<<< HEAD
    "t.g1=4.\n",
    "t.g2=2."
=======
    "t.g1=3.\n",
    "t.g2=3."
>>>>>>> 68076f2f1fdfb808520889cfe595f8f988484d64
   ]
  },
  {
   "cell_type": "markdown",
   "metadata": {},
   "source": [
    "Now we would like to download relevant data from Vizier using get_parallax() and get_all(). At the end we call prepare_data() to\n",
    "set everything for sampling process which is necessary!"
   ]
  },
  {
   "cell_type": "code",
<<<<<<< HEAD
   "execution_count": 28,
=======
   "execution_count": null,
>>>>>>> 68076f2f1fdfb808520889cfe595f8f988484d64
   "metadata": {},
   "outputs": [
    {
     "name": "stdout",
     "output_type": "stream",
     "text": [
<<<<<<< HEAD
      "Parallax: 0.0081 mas\n",
      "Parallax error: 0.0377 mas\n",
      "Parallax not statisticly significnt\n",
=======
      "Parallax: 2.1748 mas\n",
      "Parallax error: 0.0331 mas\n",
>>>>>>> 68076f2f1fdfb808520889cfe595f8f988484d64
      "TableList with 1 tables:\n",
      "\t'0:I/345/gaia2' with 6 column(s) and 1 row(s) \n",
      "TableList with 1 tables:\n",
      "\t'0:II/246/out' with 6 column(s) and 1 row(s) \n",
      "TableList with 1 tables:\n",
<<<<<<< HEAD
      "\t'0:II/281/2mass6x' with 6 column(s) and 2 row(s) \n",
      "TableList with 1 tables:\n",
      "\t'0:II/305/catalog' with 8 column(s) and 1 row(s) \n",
      "Something missing in II/305/catalog!\n",
      "Something missing in II/305/catalog!\n",
      "TableList with 1 tables:\n",
      "\t'0:II/305/archive' with 8 column(s) and 1 row(s) \n",
      "Something missing in II/305/archive!\n",
      "Something missing in II/305/archive!\n",
      "TableList with 1 tables:\n",
      "\t'0:II/358/smss' with 12 column(s) and 1 row(s) \n",
      "TableList with 1 tables:\n",
      "\t'0:B/denis/denis' with 6 column(s) and 1 row(s) \n",
      "Something missing in B/denis/denis!\n",
      "Something missing in B/denis/denis!\n",
      "TableList with 1 tables:\n",
      "\t'0:II/356/xmmom41s' with 6 column(s) and 1 row(s) \n",
      "Something missing in II/356/xmmom41s!\n",
      "Something missing in II/356/xmmom41s!\n",
      "TableList with 1 tables:\n",
      "\t'0:II/370/xmmom5s' with 6 column(s) and 1 row(s) \n",
      "Something missing in II/370/xmmom5s!\n",
      "Something missing in II/370/xmmom5s!\n",
      "GaiaDR2_G,16.353,0.006\n",
      "GaiaDR2_BP,16.114,0.017\n",
      "GaiaDR2_RP,16.365,0.020\n",
      "2MASS_H,17.205,0.000\n",
      "2MASS_Ks,15.539,0.000\n",
      "2MASS_J,16.628,0.143\n",
      "SPITZER_IRAC_36,16.786,0.077\n",
      "SPITZER_IRAC_45,16.676,0.082\n",
      "SkyMapper_u,15.965,0.140\n",
      "SkyMapper_v,16.159,0.085\n",
      "SkyMapper_r,16.604,0.067\n",
      "SkyMapper_i,16.909,0.071\n",
      "SkyMapper_g,16.203,0.063\n",
      "SkyMapper_z,17.238,0.122\n",
      "DENIS_I,16.438,0.090\n",
      "UVW2,15.508,0.008\n",
      "filter 2MASS_H with no magnitude error! Setting to max\n",
      "filter 2MASS_Ks with no magnitude error! Setting to max\n"
=======
      "\t'0:II/367/vhs_dr5' with 6 column(s) and 1 row(s) \n",
      "Something missing in II/367/vhs_dr5!\n",
      "Something missing in II/367/vhs_dr5!\n",
      "Something missing in II/367/vhs_dr5!\n"
>>>>>>> 68076f2f1fdfb808520889cfe595f8f988484d64
     ]
    }
   ],
   "source": [
    "t.get_parallax()\n",
    "t.get_all(False)\n",
    "t.delete(\"GaiaDR2_G\")\n",
    "t.delete(\"GaiaDR2_BP\")\n",
    "t.delete(\"GaiaDR2_RP\")\n",
    "t.delete(\"K_VISTA\")\n",
    "t.delete(\"J_VISTA\")\n",
    "for cat,fil,err in zip(t.filters,t.ampl,t.err):\n",
    "    print(\"{0},{1:.3f},{2:.3f}\".format(cat,fil,err))\n",
    "t.prepare_data()"
   ]
  },
  {
   "cell_type": "markdown",
   "metadata": {},
   "source": [
<<<<<<< HEAD
    "We downloaded data and prepared it, we can see that in Pan-Starss catalog some error are missing. Default strategy is to \n",
=======
    "We downloaded data and prepared it, we can see that in PanStars catalog some error are missing. Default strategy is to \n",
>>>>>>> 68076f2f1fdfb808520889cfe595f8f988484d64
    "assume maximum error from list of all errors for those observations. \n",
    "Of course there is possibility to manually add observations.\n",
    "At the end we would like to set extinction specified in E(B-V)."
   ]
  },
  {
   "cell_type": "code",
<<<<<<< HEAD
   "execution_count": 30,
   "metadata": {},
   "outputs": [
    {
     "ename": "TypeError",
     "evalue": "loop of ufunc does not support argument 0 of type NoneType which has no callable log10 method",
     "output_type": "error",
     "traceback": [
      "\u001b[0;31m---------------------------------------------------------------------------\u001b[0m",
      "\u001b[0;31mAttributeError\u001b[0m                            Traceback (most recent call last)",
      "\u001b[0;31mAttributeError\u001b[0m: 'NoneType' object has no attribute 'log10'",
      "\nThe above exception was the direct cause of the following exception:\n",
      "\u001b[0;31mTypeError\u001b[0m                                 Traceback (most recent call last)",
      "\u001b[0;32m/tmp/ipykernel_21335/2444775006.py\u001b[0m in \u001b[0;36m<cell line: 3>\u001b[0;34m()\u001b[0m\n\u001b[1;32m      1\u001b[0m \u001b[0mext_model\u001b[0m\u001b[0;34m=\u001b[0m\u001b[0mCombined19\u001b[0m\u001b[0;34m(\u001b[0m\u001b[0;34m)\u001b[0m\u001b[0;34m\u001b[0m\u001b[0;34m\u001b[0m\u001b[0m\n\u001b[1;32m      2\u001b[0m \u001b[0mgalactic_coords\u001b[0m\u001b[0;34m=\u001b[0m\u001b[0mSkyCoord\u001b[0m\u001b[0;34m(\u001b[0m\u001b[0mra\u001b[0m\u001b[0;34m=\u001b[0m\u001b[0mra\u001b[0m\u001b[0;34m*\u001b[0m\u001b[0mu\u001b[0m\u001b[0;34m.\u001b[0m\u001b[0mdegree\u001b[0m\u001b[0;34m,\u001b[0m \u001b[0mdec\u001b[0m\u001b[0;34m=\u001b[0m\u001b[0mdec\u001b[0m\u001b[0;34m*\u001b[0m\u001b[0mu\u001b[0m\u001b[0;34m.\u001b[0m\u001b[0mdegree\u001b[0m\u001b[0;34m,\u001b[0m \u001b[0mframe\u001b[0m\u001b[0;34m=\u001b[0m\u001b[0;34m'icrs'\u001b[0m\u001b[0;34m)\u001b[0m\u001b[0;34m.\u001b[0m\u001b[0mgalactic\u001b[0m\u001b[0;34m\u001b[0m\u001b[0;34m\u001b[0m\u001b[0m\n\u001b[0;32m----> 3\u001b[0;31m \u001b[0mextinction\u001b[0m\u001b[0;34m=\u001b[0m\u001b[0mext_model\u001b[0m\u001b[0;34m(\u001b[0m\u001b[0mgalactic_coords\u001b[0m\u001b[0;34m.\u001b[0m\u001b[0ml\u001b[0m\u001b[0;34m.\u001b[0m\u001b[0mvalue\u001b[0m\u001b[0;34m,\u001b[0m\u001b[0mgalactic_coords\u001b[0m\u001b[0;34m.\u001b[0m\u001b[0mb\u001b[0m\u001b[0;34m.\u001b[0m\u001b[0mvalue\u001b[0m\u001b[0;34m,\u001b[0m\u001b[0mt\u001b[0m\u001b[0;34m.\u001b[0m\u001b[0md\u001b[0m\u001b[0;34m)\u001b[0m\u001b[0;34m[\u001b[0m\u001b[0;36m0\u001b[0m\u001b[0;34m]\u001b[0m\u001b[0;34m\u001b[0m\u001b[0;34m\u001b[0m\u001b[0m\n\u001b[0m\u001b[1;32m      4\u001b[0m \u001b[0mt\u001b[0m\u001b[0;34m.\u001b[0m\u001b[0mset_EBV\u001b[0m\u001b[0;34m(\u001b[0m\u001b[0mextinction\u001b[0m\u001b[0;34m)\u001b[0m\u001b[0;34m\u001b[0m\u001b[0;34m\u001b[0m\u001b[0m\n",
      "\u001b[0;32m/usr/local/lib/python3.10/dist-packages/mwdust-1.2.dev0-py3.10-linux-x86_64.egg/mwdust/DustMap3D.py\u001b[0m in \u001b[0;36m__call__\u001b[0;34m(self, *args, **kwargs)\u001b[0m\n\u001b[1;32m     46\u001b[0m                 \u001b[0md\u001b[0m\u001b[0;34m=\u001b[0m \u001b[0mnumpy\u001b[0m\u001b[0;34m.\u001b[0m\u001b[0marray\u001b[0m\u001b[0;34m(\u001b[0m\u001b[0;34m[\u001b[0m\u001b[0md\u001b[0m\u001b[0;34m]\u001b[0m\u001b[0;34m)\u001b[0m\u001b[0;34m\u001b[0m\u001b[0;34m\u001b[0m\u001b[0m\n\u001b[1;32m     47\u001b[0m             \u001b[0;32mtry\u001b[0m\u001b[0;34m:\u001b[0m\u001b[0;34m\u001b[0m\u001b[0;34m\u001b[0m\u001b[0m\n\u001b[0;32m---> 48\u001b[0;31m                 \u001b[0;32mreturn\u001b[0m \u001b[0mself\u001b[0m\u001b[0;34m.\u001b[0m\u001b[0m_evaluate\u001b[0m\u001b[0;34m(\u001b[0m\u001b[0ml\u001b[0m\u001b[0;34m,\u001b[0m\u001b[0mb\u001b[0m\u001b[0;34m,\u001b[0m\u001b[0md\u001b[0m\u001b[0;34m,\u001b[0m\u001b[0;34m**\u001b[0m\u001b[0mkwargs\u001b[0m\u001b[0;34m)\u001b[0m\u001b[0;34m\u001b[0m\u001b[0;34m\u001b[0m\u001b[0m\n\u001b[0m\u001b[1;32m     49\u001b[0m             \u001b[0;32mexcept\u001b[0m \u001b[0mAttributeError\u001b[0m\u001b[0;34m:\u001b[0m\u001b[0;34m\u001b[0m\u001b[0;34m\u001b[0m\u001b[0m\n\u001b[1;32m     50\u001b[0m                 \u001b[0;32mraise\u001b[0m\u001b[0;34m\u001b[0m\u001b[0;34m\u001b[0m\u001b[0m\n",
      "\u001b[0;32m/usr/local/lib/python3.10/dist-packages/mwdust-1.2.dev0-py3.10-linux-x86_64.egg/mwdust/HierarchicalHealpixMap.py\u001b[0m in \u001b[0;36m_evaluate\u001b[0;34m(self, l, b, d)\u001b[0m\n\u001b[1;32m     50\u001b[0m            \u001b[0;36m2015\u001b[0m\u001b[0;34m-\u001b[0m\u001b[0;36m0\u001b[0m\u001b[0;36m3\u001b[0m\u001b[0;34m-\u001b[0m\u001b[0;36m0\u001b[0m\u001b[0;36m2\u001b[0m \u001b[0;34m-\u001b[0m \u001b[0mStarted\u001b[0m \u001b[0;34m-\u001b[0m \u001b[0mBovy\u001b[0m \u001b[0;34m(\u001b[0m\u001b[0mIAS\u001b[0m\u001b[0;34m)\u001b[0m\u001b[0;34m\u001b[0m\u001b[0;34m\u001b[0m\u001b[0m\n\u001b[1;32m     51\u001b[0m         \"\"\"\n\u001b[0;32m---> 52\u001b[0;31m         \u001b[0mdistmod\u001b[0m\u001b[0;34m=\u001b[0m \u001b[0;36m5.\u001b[0m\u001b[0;34m*\u001b[0m\u001b[0mnumpy\u001b[0m\u001b[0;34m.\u001b[0m\u001b[0mlog10\u001b[0m\u001b[0;34m(\u001b[0m\u001b[0md\u001b[0m\u001b[0;34m)\u001b[0m\u001b[0;34m+\u001b[0m\u001b[0;36m10.\u001b[0m\u001b[0;34m\u001b[0m\u001b[0;34m\u001b[0m\u001b[0m\n\u001b[0m\u001b[1;32m     53\u001b[0m         \u001b[0;32mif\u001b[0m \u001b[0misinstance\u001b[0m\u001b[0;34m(\u001b[0m\u001b[0ml\u001b[0m\u001b[0;34m,\u001b[0m\u001b[0mnumpy\u001b[0m\u001b[0;34m.\u001b[0m\u001b[0mndarray\u001b[0m\u001b[0;34m)\u001b[0m \u001b[0;32mor\u001b[0m \u001b[0misinstance\u001b[0m\u001b[0;34m(\u001b[0m\u001b[0mb\u001b[0m\u001b[0;34m,\u001b[0m\u001b[0mnumpy\u001b[0m\u001b[0;34m.\u001b[0m\u001b[0mndarray\u001b[0m\u001b[0;34m)\u001b[0m\u001b[0;34m:\u001b[0m\u001b[0;34m\u001b[0m\u001b[0;34m\u001b[0m\u001b[0m\n\u001b[1;32m     54\u001b[0m             \u001b[0;32mraise\u001b[0m \u001b[0mNotImplementedError\u001b[0m\u001b[0;34m(\u001b[0m\u001b[0;34m\"array input for l and b for combined dust map not implemented\"\u001b[0m\u001b[0;34m)\u001b[0m\u001b[0;34m\u001b[0m\u001b[0;34m\u001b[0m\u001b[0m\n",
      "\u001b[0;31mTypeError\u001b[0m: loop of ufunc does not support argument 0 of type NoneType which has no callable log10 method"
     ]
    }
   ],
   "source": [
    "ext_model=Combined19()\n",
    "galactic_coords=SkyCoord(ra=ra*u.degree, dec=dec*u.degree, frame='icrs').galactic\n",
    "extinction=ext_model(galactic_coords.l.value,galactic_coords.b.value,t.d)[0]\n",
=======
   "execution_count": null,
   "metadata": {},
   "outputs": [],
   "source": [
    "ext_model=Combined19()\n",
    "galactic_coords=SkyCoord(ra=ra*u.degree, dec=dec*u.degree, frame='icrs').galactic\n",
    "extinction=ext_model(galactic_coords.l.value,galactic_coords.b.value,1/t.plx)[0]\n",
>>>>>>> 68076f2f1fdfb808520889cfe595f8f988484d64
    "t.set_EBV(extinction)"
   ]
  },
  {
   "cell_type": "markdown",
   "metadata": {},
   "source": [
    "Now let's do the sampling, we will use $3000$ steps and $500$ burn-in. As Iris is based on emcee we need to specify number of walkers, here we will use $8$.\n",
    "There are many options that can be used here, we can specify starting temperature and so on but it will be enough here to just stick with random starting conditions. "
   ]
  },
  {
   "cell_type": "code",
   "execution_count": null,
   "metadata": {},
   "outputs": [],
   "source": [
    "t.run_chain_simple(3000,500,8)\n",
    "t.plot_dist_simple()"
   ]
  },
  {
   "cell_type": "markdown",
   "metadata": {},
   "source": [
    "We automatically prepared corner plot together with ilustration of fit which look quite well, we can see that chain converged to solution."
   ]
  },
  {
   "cell_type": "code",
   "execution_count": null,
   "metadata": {},
   "outputs": [],
   "source": [
<<<<<<< HEAD
    "IPython.display.Image(\"Giraffe_simple_emcee.png\",width=600)"
=======
    "IPython.display.Image(\"Unicorn_simple_emcee.png\",width=600)"
>>>>>>> 68076f2f1fdfb808520889cfe595f8f988484d64
   ]
  },
  {
   "cell_type": "markdown",
   "metadata": {},
   "source": [
    "Now let's use double star model. We will use rerun_chain_double which runs two times whole procedure, second times using samples from the first run to\n",
    "eliminate any walkers that could get trapped in other regions."
   ]
  },
  {
   "cell_type": "code",
   "execution_count": null,
   "metadata": {},
   "outputs": [],
   "source": [
<<<<<<< HEAD
    "t.rerun_chain_double(2000,1500,16,use_simple_res=False)\n",
=======
    "t.rerun_chain_double(3000,500,16,use_simple_res=False)\n",
>>>>>>> 68076f2f1fdfb808520889cfe595f8f988484d64
    "t.plot_dist_double()"
   ]
  },
  {
   "cell_type": "code",
   "execution_count": null,
   "metadata": {},
   "outputs": [],
   "source": [
<<<<<<< HEAD
    "IPython.display.Image(\"Giraffe_double_emcee.png\",width=600)"
=======
    "t.run_chain_double_start(2000,500,16,[3.4659, 1.431, 3.672, 2.130, 2.1751])\n",
    "t.plot_dist_double()"
   ]
  },
  {
   "cell_type": "code",
   "execution_count": null,
   "metadata": {},
   "outputs": [],
   "source": [
    "IPython.display.Image(\"Unicorn_double_emcee.png\",width=600)"
>>>>>>> 68076f2f1fdfb808520889cfe595f8f988484d64
   ]
  },
  {
   "cell_type": "code",
   "execution_count": null,
   "metadata": {},
   "outputs": [],
   "source": []
  },
  {
   "cell_type": "code",
   "execution_count": null,
   "metadata": {},
   "outputs": [],
   "source": []
  }
 ],
 "metadata": {
  "kernelspec": {
   "display_name": "Python 3 (ipykernel)",
   "language": "python",
   "name": "python3"
  },
  "language_info": {
   "codemirror_mode": {
    "name": "ipython",
    "version": 3
   },
   "file_extension": ".py",
   "mimetype": "text/x-python",
   "name": "python",
   "nbconvert_exporter": "python",
   "pygments_lexer": "ipython3",
   "version": "3.10.6"
  }
 },
 "nbformat": 4,
 "nbformat_minor": 2
}
